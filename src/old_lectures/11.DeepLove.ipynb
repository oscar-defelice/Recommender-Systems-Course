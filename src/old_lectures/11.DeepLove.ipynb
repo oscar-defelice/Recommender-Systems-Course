{
 "cells": [
  {
   "attachments": {},
   "cell_type": "markdown",
   "metadata": {},
   "source": [
    "# Introduction to Recommender Systems\n",
    "\n",
    "<p align=\"center\">\n",
    "    <img width=\"721\" alt=\"cover-image\" src=\"https://user-images.githubusercontent.com/49638680/204351915-373011d3-75ac-4e21-a6df-99cd1c552f2c.png\">\n",
    "</p>\n",
    "\n",
    "---\n",
    "\n",
    "# DeepLove: A movie recommender system for couples\n",
    "\n",
    "The main idea here is to play with the idea of a recommender system for couples. The idea is to recommend movies to couples based on their preferences.\n",
    "The recommender system will be based on the average of users preferences, trying to recommend the most compatible movies for both users in the couple.\n",
    "\n",
    "We will implement the recommender system by steps:\n",
    "\n",
    "1. Creation of a function to get the average of two movies.\n",
    "2. Creation of a function to get the most compatible movies for a user.\n",
    "3. Creation of a method to encode users features.\n",
    "4. Put all together and create a recommender system for couples.\n"
   ]
  },
  {
   "cell_type": "code",
   "execution_count": null,
   "metadata": {},
   "outputs": [],
   "source": []
  }
 ],
 "metadata": {
  "kernelspec": {
   "display_name": "Python 3",
   "language": "python",
   "name": "python3"
  },
  "language_info": {
   "name": "python",
   "version": "3.9.6"
  },
  "orig_nbformat": 4,
  "vscode": {
   "interpreter": {
    "hash": "31f2aee4e71d21fbe5cf8b01ff0e069b9275f58929596ceb00d14d90e3e16cd6"
   }
  }
 },
 "nbformat": 4,
 "nbformat_minor": 2
}
